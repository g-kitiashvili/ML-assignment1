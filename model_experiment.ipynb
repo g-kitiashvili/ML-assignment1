{
 "cells": [
  {
   "cell_type": "markdown",
   "metadata": {},
   "source": [
    "# House Prices - Advanced Regression Techniques\n",
    "## Model Experiment Notebook\n",
    "\n",
    "This notebook implements a comprehensive machine learning pipeline for the House Prices prediction competition, including:\n",
    "- Data exploration and cleaning\n",
    "- Feature engineering and selection\n",
    "- Model training and evaluation\n",
    "- Hyperparameter optimization\n",
    "- MLflow experiment tracking"
   ]
  },
  {
   "cell_type": "markdown",
   "metadata": {},
   "source": [
    "## 1. Initial Setup and Data Loading"
   ]
  },
  {
   "cell_type": "code",
   "metadata": {
    "ExecuteTime": {
     "end_time": "2025-06-24T12:23:08.202756Z",
     "start_time": "2025-06-24T12:23:06.673928Z"
    }
   },
   "source": [
    "# Install required packages\n",
    "%pip install -q dagshub mlflow"
   ],
   "outputs": [
    {
     "name": "stdout",
     "output_type": "stream",
     "text": [
      "Note: you may need to restart the kernel to use updated packages.\n"
     ]
    }
   ],
   "execution_count": 1
  },
  {
   "cell_type": "code",
   "metadata": {
    "ExecuteTime": {
     "end_time": "2025-06-24T12:23:12.313838Z",
     "start_time": "2025-06-24T12:23:09.086532Z"
    }
   },
   "source": [
    "import os\n",
    "import pandas as pd\n",
    "import numpy as np\n",
    "import matplotlib.pyplot as plt\n",
    "\n",
    "from sklearn.feature_selection import SelectKBest, f_regression, RFE, SelectFromModel\n",
    "from sklearn.ensemble import RandomForestRegressor\n",
    "from sklearn.linear_model import LinearRegression, Ridge, Lasso, ElasticNet\n",
    "from sklearn.model_selection import cross_val_score, GridSearchCV\n",
    "from sklearn.metrics import mean_squared_error, r2_score, mean_absolute_error\n",
    "import xgboost as xgb\n",
    "import mlflow.sklearn\n",
    "import warnings\n",
    "warnings.filterwarnings('ignore')"
   ],
   "outputs": [],
   "execution_count": 2
  },
  {
   "cell_type": "code",
   "metadata": {
    "ExecuteTime": {
     "end_time": "2025-06-24T12:23:13.651895Z",
     "start_time": "2025-06-24T12:23:13.175101Z"
    }
   },
   "source": [
    "# MLflow Setup - DagHub connection\n",
    "os.environ['MLFLOW_TRACKING_URI'] = 'https://dagshub.com/g-kitiashvili/ML-assignment1.mlflow'\n",
    "os.environ['MLFLOW_TRACKING_USERNAME'] = 'g-kitiashvili'\n",
    "os.environ['MLFLOW_TRACKING_PASSWORD'] = '1c2227158cc19daf66bb3b241116a8e8c5f1cd20' \n",
    "mlflow.set_experiment(f\"house-prices-experiments\")"
   ],
   "outputs": [
    {
     "data": {
      "text/plain": [
       "<Experiment: artifact_location='mlflow-artifacts:/e6f9a36462414578ab938223b4d1196d', creation_time=1750758231329, experiment_id='0', last_update_time=1750758231329, lifecycle_stage='active', name='house-prices-experiments', tags={}>"
      ]
     },
     "execution_count": 3,
     "metadata": {},
     "output_type": "execute_result"
    }
   ],
   "execution_count": 3
  },
  {
   "cell_type": "code",
   "metadata": {
    "ExecuteTime": {
     "end_time": "2025-06-24T12:23:15.127910Z",
     "start_time": "2025-06-24T12:23:15.100908Z"
    }
   },
   "source": [
    "# Load data\n",
    "train_data = pd.read_csv('house-prices-advanced-regression-techniques/train.csv')\n",
    "test_data = pd.read_csv('house-prices-advanced-regression-techniques/test.csv')\n",
    "\n",
    "print(f\"Training data shape: {train_data.shape}\")\n",
    "print(f\"Test data shape: {test_data.shape}\")"
   ],
   "outputs": [
    {
     "name": "stdout",
     "output_type": "stream",
     "text": [
      "Training data shape: (1460, 81)\n",
      "Test data shape: (1459, 80)\n"
     ]
    }
   ],
   "execution_count": 4
  },
  {
   "cell_type": "code",
   "metadata": {
    "ExecuteTime": {
     "end_time": "2025-06-24T12:23:16.168956Z",
     "start_time": "2025-06-24T12:23:16.154598Z"
    }
   },
   "source": [
    "# Basic info about the data\n",
    "print(\"Training data info:\")\n",
    "print(train_data.info())\n",
    "print(\"\\nTarget variable statistics:\")\n",
    "print(train_data['SalePrice'].describe())"
   ],
   "outputs": [
    {
     "name": "stdout",
     "output_type": "stream",
     "text": [
      "Training data info:\n",
      "<class 'pandas.core.frame.DataFrame'>\n",
      "RangeIndex: 1460 entries, 0 to 1459\n",
      "Data columns (total 81 columns):\n",
      " #   Column         Non-Null Count  Dtype  \n",
      "---  ------         --------------  -----  \n",
      " 0   Id             1460 non-null   int64  \n",
      " 1   MSSubClass     1460 non-null   int64  \n",
      " 2   MSZoning       1460 non-null   object \n",
      " 3   LotFrontage    1201 non-null   float64\n",
      " 4   LotArea        1460 non-null   int64  \n",
      " 5   Street         1460 non-null   object \n",
      " 6   Alley          91 non-null     object \n",
      " 7   LotShape       1460 non-null   object \n",
      " 8   LandContour    1460 non-null   object \n",
      " 9   Utilities      1460 non-null   object \n",
      " 10  LotConfig      1460 non-null   object \n",
      " 11  LandSlope      1460 non-null   object \n",
      " 12  Neighborhood   1460 non-null   object \n",
      " 13  Condition1     1460 non-null   object \n",
      " 14  Condition2     1460 non-null   object \n",
      " 15  BldgType       1460 non-null   object \n",
      " 16  HouseStyle     1460 non-null   object \n",
      " 17  OverallQual    1460 non-null   int64  \n",
      " 18  OverallCond    1460 non-null   int64  \n",
      " 19  YearBuilt      1460 non-null   int64  \n",
      " 20  YearRemodAdd   1460 non-null   int64  \n",
      " 21  RoofStyle      1460 non-null   object \n",
      " 22  RoofMatl       1460 non-null   object \n",
      " 23  Exterior1st    1460 non-null   object \n",
      " 24  Exterior2nd    1460 non-null   object \n",
      " 25  MasVnrType     588 non-null    object \n",
      " 26  MasVnrArea     1452 non-null   float64\n",
      " 27  ExterQual      1460 non-null   object \n",
      " 28  ExterCond      1460 non-null   object \n",
      " 29  Foundation     1460 non-null   object \n",
      " 30  BsmtQual       1423 non-null   object \n",
      " 31  BsmtCond       1423 non-null   object \n",
      " 32  BsmtExposure   1422 non-null   object \n",
      " 33  BsmtFinType1   1423 non-null   object \n",
      " 34  BsmtFinSF1     1460 non-null   int64  \n",
      " 35  BsmtFinType2   1422 non-null   object \n",
      " 36  BsmtFinSF2     1460 non-null   int64  \n",
      " 37  BsmtUnfSF      1460 non-null   int64  \n",
      " 38  TotalBsmtSF    1460 non-null   int64  \n",
      " 39  Heating        1460 non-null   object \n",
      " 40  HeatingQC      1460 non-null   object \n",
      " 41  CentralAir     1460 non-null   object \n",
      " 42  Electrical     1459 non-null   object \n",
      " 43  1stFlrSF       1460 non-null   int64  \n",
      " 44  2ndFlrSF       1460 non-null   int64  \n",
      " 45  LowQualFinSF   1460 non-null   int64  \n",
      " 46  GrLivArea      1460 non-null   int64  \n",
      " 47  BsmtFullBath   1460 non-null   int64  \n",
      " 48  BsmtHalfBath   1460 non-null   int64  \n",
      " 49  FullBath       1460 non-null   int64  \n",
      " 50  HalfBath       1460 non-null   int64  \n",
      " 51  BedroomAbvGr   1460 non-null   int64  \n",
      " 52  KitchenAbvGr   1460 non-null   int64  \n",
      " 53  KitchenQual    1460 non-null   object \n",
      " 54  TotRmsAbvGrd   1460 non-null   int64  \n",
      " 55  Functional     1460 non-null   object \n",
      " 56  Fireplaces     1460 non-null   int64  \n",
      " 57  FireplaceQu    770 non-null    object \n",
      " 58  GarageType     1379 non-null   object \n",
      " 59  GarageYrBlt    1379 non-null   float64\n",
      " 60  GarageFinish   1379 non-null   object \n",
      " 61  GarageCars     1460 non-null   int64  \n",
      " 62  GarageArea     1460 non-null   int64  \n",
      " 63  GarageQual     1379 non-null   object \n",
      " 64  GarageCond     1379 non-null   object \n",
      " 65  PavedDrive     1460 non-null   object \n",
      " 66  WoodDeckSF     1460 non-null   int64  \n",
      " 67  OpenPorchSF    1460 non-null   int64  \n",
      " 68  EnclosedPorch  1460 non-null   int64  \n",
      " 69  3SsnPorch      1460 non-null   int64  \n",
      " 70  ScreenPorch    1460 non-null   int64  \n",
      " 71  PoolArea       1460 non-null   int64  \n",
      " 72  PoolQC         7 non-null      object \n",
      " 73  Fence          281 non-null    object \n",
      " 74  MiscFeature    54 non-null     object \n",
      " 75  MiscVal        1460 non-null   int64  \n",
      " 76  MoSold         1460 non-null   int64  \n",
      " 77  YrSold         1460 non-null   int64  \n",
      " 78  SaleType       1460 non-null   object \n",
      " 79  SaleCondition  1460 non-null   object \n",
      " 80  SalePrice      1460 non-null   int64  \n",
      "dtypes: float64(3), int64(35), object(43)\n",
      "memory usage: 924.0+ KB\n",
      "None\n",
      "\n",
      "Target variable statistics:\n",
      "count      1460.000000\n",
      "mean     180921.195890\n",
      "std       79442.502883\n",
      "min       34900.000000\n",
      "25%      129975.000000\n",
      "50%      163000.000000\n",
      "75%      214000.000000\n",
      "max      755000.000000\n",
      "Name: SalePrice, dtype: float64\n"
     ]
    }
   ],
   "execution_count": 5
  },
  {
   "cell_type": "markdown",
   "metadata": {},
   "source": [
    "## 2. Data Exploration and Analysis"
   ]
  },
  {
   "cell_type": "code",
   "metadata": {
    "ExecuteTime": {
     "end_time": "2025-06-24T12:23:21.324782Z",
     "start_time": "2025-06-24T12:23:17.991577Z"
    }
   },
   "source": [
    "# Start MLflow run for EDA\n",
    "with mlflow.start_run(run_name=\"EDA\"):\n",
    "    # Log dataset info\n",
    "    mlflow.log_param(\"train_shape\", train_data.shape)\n",
    "    mlflow.log_param(\"test_shape\", test_data.shape)\n",
    "    \n",
    "    # Missing values analysis\n",
    "    missing_data = train_data.isnull().sum().sort_values(ascending=False)\n",
    "    missing_percent = (missing_data / len(train_data)) * 100\n",
    "    missing_df = pd.DataFrame({'Missing Count': missing_data, 'Percentage': missing_percent})\n",
    "    missing_df = missing_df[missing_df['Missing Count'] > 0]\n",
    "    \n",
    "    print(\"Missing values:\")\n",
    "    print(missing_df.head(20))\n",
    "    \n",
    "    mlflow.log_metric(\"missing_features_count\", len(missing_df))\n",
    "    # Target variable distribution\n",
    "    plt.figure(figsize=(12, 4))\n",
    "    plt.subplot(1, 2, 1)\n",
    "    plt.hist(train_data['SalePrice'], bins=50)\n",
    "    plt.title('SalePrice Distribution')\n",
    "    plt.xlabel('Price')\n",
    "    \n",
    "    plt.subplot(1, 2, 2)\n",
    "    plt.hist(np.log(train_data['SalePrice']), bins=50)\n",
    "    plt.title('Log SalePrice Distribution')\n",
    "    plt.xlabel('Log Price')\n",
    "    plt.tight_layout()\n",
    "    plt.savefig('target_distribution.png')\n",
    "    mlflow.log_artifact('target_distribution.png')\n",
    "    plt.show()\n",
    "    \n",
    "     # Correlation with target\n",
    "    numeric_features = train_data.select_dtypes(include=[np.number]).columns\n",
    "    correlations = train_data[numeric_features].corr()['SalePrice'].sort_values(ascending=False)\n",
    "    print(\"\\nTop correlations with SalePrice:\")\n",
    "    print(correlations.head(15))\n",
    "    \n",
    "    mlflow.log_metric(\"numeric_features_count\", len(numeric_features))"
   ],
   "outputs": [
    {
     "name": "stdout",
     "output_type": "stream",
     "text": [
      "Missing values:\n",
      "              Missing Count  Percentage\n",
      "PoolQC                 1453   99.520548\n",
      "MiscFeature            1406   96.301370\n",
      "Alley                  1369   93.767123\n",
      "Fence                  1179   80.753425\n",
      "MasVnrType              872   59.726027\n",
      "FireplaceQu             690   47.260274\n",
      "LotFrontage             259   17.739726\n",
      "GarageQual               81    5.547945\n",
      "GarageFinish             81    5.547945\n",
      "GarageType               81    5.547945\n",
      "GarageYrBlt              81    5.547945\n",
      "GarageCond               81    5.547945\n",
      "BsmtFinType2             38    2.602740\n",
      "BsmtExposure             38    2.602740\n",
      "BsmtCond                 37    2.534247\n",
      "BsmtQual                 37    2.534247\n",
      "BsmtFinType1             37    2.534247\n",
      "MasVnrArea                8    0.547945\n",
      "Electrical                1    0.068493\n"
     ]
    },
    {
     "data": {
      "text/plain": [
       "<Figure size 1200x400 with 2 Axes>"
      ],
      "image/png": "[encoded data removed]"
     },
     "metadata": {},
     "output_type": "display_data"
    },
    {
     "name": "stdout",
     "output_type": "stream",
     "text": [
      "\n",
      "Top correlations with SalePrice:\n",
      "SalePrice       1.000000\n",
      "OverallQual     0.790982\n",
      "GrLivArea       0.708624\n",
      "GarageCars      0.640409\n",
      "GarageArea      0.623431\n",
      "TotalBsmtSF     0.613581\n",
      "1stFlrSF        0.605852\n",
      "FullBath        0.560664\n",
      "TotRmsAbvGrd    0.533723\n",
      "YearBuilt       0.522897\n",
      "YearRemodAdd    0.507101\n",
      "GarageYrBlt     0.486362\n",
      "MasVnrArea      0.477493\n",
      "Fireplaces      0.466929\n",
      "BsmtFinSF1      0.386420\n",
      "Name: SalePrice, dtype: float64\n",
      "🏃 View run EDA at: https://dagshub.com/g-kitiashvili/ML-assignment1.mlflow/#/experiments/0/runs/a4a20c0f03d345bd86a15f5a33500f86\n",
      "🧪 View experiment at: https://dagshub.com/g-kitiashvili/ML-assignment1.mlflow/#/experiments/0\n"
     ]
    }
   ],
   "execution_count": 6
  },
  {
   "cell_type": "markdown",
   "metadata": {},
   "source": [
    "## 3. Data Cleaning"
   ]
  },
  {
   "cell_type": "code",
   "metadata": {
    "ExecuteTime": {
     "end_time": "2025-06-24T12:23:23.655461Z",
     "start_time": "2025-06-24T12:23:23.647993Z"
    }
   },
   "source": [
    "def clean_data(df, is_train=True):\n",
    "    \"\"\"\n",
    "    Data cleaning function\n",
    "    \"\"\"\n",
    "    df_clean = df.copy()\n",
    "    \n",
    "    # Remove outliers (only for training data)\n",
    "    if is_train:\n",
    "        # Remove extreme outliers based on GrLivArea and SalePrice\n",
    "        df_clean = df_clean.drop(df_clean[(df_clean['GrLivArea'] > 4000) & \n",
    "                                         (df_clean['SalePrice'] < 300000)].index)\n",
    "    \n",
    "    # Handle missing values for specific features\n",
    "    # Categorical features with meaningful NA\n",
    "    categorical_na_features = ['Alley', 'BsmtQual', 'BsmtCond', 'BsmtExposure', \n",
    "                              'BsmtFinType1', 'BsmtFinType2', 'FireplaceQu',\n",
    "                              'GarageType', 'GarageFinish', 'GarageQual', 'GarageCond',\n",
    "                              'PoolQC', 'Fence', 'MiscFeature']\n",
    "    \n",
    "    for feature in categorical_na_features:\n",
    "        if feature in df_clean.columns:\n",
    "            df_clean[feature] = df_clean[feature].fillna('None')\n",
    "    \n",
    "    # Numerical features with meaningful zero\n",
    "    numerical_zero_features = ['BsmtFinSF1', 'BsmtFinSF2', 'BsmtUnfSF', 'TotalBsmtSF',\n",
    "                              'BsmtFullBath', 'BsmtHalfBath', 'GarageYrBlt',\n",
    "                              'GarageArea', 'GarageCars', 'MasVnrArea']\n",
    "    \n",
    "    for feature in numerical_zero_features:\n",
    "        if feature in df_clean.columns:\n",
    "            df_clean[feature] = df_clean[feature].fillna(0)\n",
    "    \n",
    "    # Other categorical features - fill with mode\n",
    "    categorical_features = df_clean.select_dtypes(include=['object']).columns\n",
    "    for feature in categorical_features:\n",
    "        if df_clean[feature].isnull().any():\n",
    "            mode_value = df_clean[feature].mode()[0] if len(df_clean[feature].mode()) > 0 else 'Unknown'\n",
    "            df_clean[feature] = df_clean[feature].fillna(mode_value)\n",
    "    \n",
    "    # Numerical features - fill with median\n",
    "    numerical_features = df_clean.select_dtypes(include=[np.number]).columns\n",
    "    for feature in numerical_features:\n",
    "        if df_clean[feature].isnull().any():\n",
    "            median_value = df_clean[feature].median()\n",
    "            df_clean[feature] = df_clean[feature].fillna(median_value)\n",
    "    \n",
    "    return df_clean"
   ],
   "outputs": [],
   "execution_count": 7
  },
  {
   "cell_type": "code",
   "metadata": {
    "ExecuteTime": {
     "end_time": "2025-06-24T12:23:26.975175Z",
     "start_time": "2025-06-24T12:23:24.861233Z"
    }
   },
   "source": [
    "# Apply cleaning\n",
    "with mlflow.start_run(run_name=\"Data_Cleaning\"):\n",
    "    train_clean = clean_data(train_data, is_train=True)\n",
    "    test_clean = clean_data(test_data, is_train=False)\n",
    "    \n",
    "    print(f\"Original training data shape: {train_data.shape}\")\n",
    "    print(f\"Cleaned training data shape: {train_clean.shape}\")\n",
    "    \n",
    "    # Log cleaning results\n",
    "    mlflow.log_param(\"original_train_shape\", train_data.shape)\n",
    "    mlflow.log_param(\"cleaned_train_shape\", train_clean.shape)\n",
    "    mlflow.log_param(\"outliers_removed\", train_data.shape[0] - train_clean.shape[0])\n",
    "    \n",
    "    # Check remaining missing values\n",
    "    missing_after = train_clean.isnull().sum().sum()\n",
    "    print(f\"Missing values after cleaning: {missing_after}\")\n",
    "    mlflow.log_metric(\"missing_values_after_cleaning\", missing_after)"
   ],
   "outputs": [
    {
     "name": "stdout",
     "output_type": "stream",
     "text": [
      "Original training data shape: (1460, 81)\n",
      "Cleaned training data shape: (1458, 81)\n",
      "Missing values after cleaning: 0\n",
      "🏃 View run Data_Cleaning at: https://dagshub.com/g-kitiashvili/ML-assignment1.mlflow/#/experiments/0/runs/587c1b498b194a3294229dee104a3ae8\n",
      "🧪 View experiment at: https://dagshub.com/g-kitiashvili/ML-assignment1.mlflow/#/experiments/0\n"
     ]
    }
   ],
   "execution_count": 8
  },
  {
   "cell_type": "markdown",
   "metadata": {},
   "source": [
    "## 4. Feature Engineering"
   ]
  },
  {
   "cell_type": "code",
   "metadata": {
    "ExecuteTime": {
     "end_time": "2025-06-24T12:24:20.289793Z",
     "start_time": "2025-06-24T12:24:20.284566Z"
    }
   },
   "source": [
    "def feature_engineering(df):\n",
    "    \"\"\"\n",
    "    Create new features and transform existing ones\n",
    "    \"\"\"\n",
    "    df_fe = df.copy()\n",
    "    \n",
    "    # Create new features\n",
    "    df_fe['TotalSF'] = df_fe['TotalBsmtSF'] + df_fe['1stFlrSF'] + df_fe['2ndFlrSF']\n",
    "    df_fe['Total_Bathrooms'] = (df_fe['FullBath'] + (0.5 * df_fe['HalfBath']) +\n",
    "                               df_fe['BsmtFullBath'] + (0.5 * df_fe['BsmtHalfBath']))\n",
    "    df_fe['Total_porch_sf'] = (df_fe['OpenPorchSF'] + df_fe['3SsnPorch'] +\n",
    "                              df_fe['EnclosedPorch'] + df_fe['ScreenPorch'] +\n",
    "                              df_fe['WoodDeckSF'])\n",
    "    \n",
    "    # Age of house\n",
    "    df_fe['HouseAge'] = df_fe['YrSold'] - df_fe['YearBuilt']\n",
    "    df_fe['RemodAge'] = df_fe['YrSold'] - df_fe['YearRemodAdd']\n",
    "    \n",
    "    # Garage age\n",
    "    df_fe['GarageAge'] = df_fe['YrSold'] - df_fe['GarageYrBlt']\n",
    "    df_fe['GarageAge'] = df_fe['GarageAge'].fillna(0)\n",
    "    \n",
    "    # Has features\n",
    "    df_fe['HasBasement'] = (df_fe['TotalBsmtSF'] > 0).astype(int)\n",
    "    df_fe['HasGarage'] = (df_fe['GarageArea'] > 0).astype(int)\n",
    "    df_fe['HasFireplace'] = (df_fe['Fireplaces'] > 0).astype(int)\n",
    "    df_fe['HasPool'] = (df_fe['PoolArea'] > 0).astype(int)\n",
    "    \n",
    "    # Price per square foot proxies\n",
    "    df_fe['Price_per_sqft_total'] = df_fe['TotalSF']\n",
    "    df_fe['Price_per_sqft_living'] = df_fe['GrLivArea']\n",
    "    \n",
    "    return df_fe"
   ],
   "outputs": [],
   "execution_count": 9
  },
  {
   "cell_type": "code",
   "metadata": {
    "ExecuteTime": {
     "end_time": "2025-06-24T12:24:22.776036Z",
     "start_time": "2025-06-24T12:24:21.222335Z"
    }
   },
   "source": [
    "# Apply feature engineering\n",
    "with mlflow.start_run(run_name=\"Feature_Engineering\"):\n",
    "    train_fe = feature_engineering(train_clean)\n",
    "    test_fe = feature_engineering(test_clean)\n",
    "    \n",
    "    print(f\"Shape after feature engineering: {train_fe.shape}\")\n",
    "    \n",
    "    # Log feature engineering results\n",
    "    mlflow.log_param(\"features_after_engineering\", train_fe.shape[1])\n",
    "    mlflow.log_param(\"new_features_created\", train_fe.shape[1] - train_clean.shape[1])\n",
    "    \n",
    "    # Show new features\n",
    "    new_features = set(train_fe.columns) - set(train_clean.columns)\n",
    "    print(f\"New features created: {new_features}\")\n",
    "    mlflow.log_param(\"new_features_list\", list(new_features))"
   ],
   "outputs": [
    {
     "name": "stdout",
     "output_type": "stream",
     "text": [
      "Shape after feature engineering: (1458, 93)\n",
      "New features created: {'Price_per_sqft_living', 'Total_Bathrooms', 'RemodAge', 'HasBasement', 'HouseAge', 'HasPool', 'HasGarage', 'HasFireplace', 'GarageAge', 'Total_porch_sf', 'Price_per_sqft_total', 'TotalSF'}\n",
      "🏃 View run Feature_Engineering at: https://dagshub.com/g-kitiashvili/ML-assignment1.mlflow/#/experiments/0/runs/ef9e4711d8e541e49bb31958a36080c8\n",
      "🧪 View experiment at: https://dagshub.com/g-kitiashvili/ML-assignment1.mlflow/#/experiments/0\n"
     ]
    }
   ],
   "execution_count": 10
  },
  {
   "cell_type": "markdown",
   "metadata": {},
   "source": [
    "## 5. Feature Encoding"
   ]
  },
  {
   "cell_type": "code",
   "metadata": {
    "ExecuteTime": {
     "end_time": "2025-06-24T12:24:26.573733Z",
     "start_time": "2025-06-24T12:24:26.568706Z"
    }
   },
   "source": [
    "def encode_features(train_df, test_df, target_col='SalePrice'):\n",
    "    \"\"\"\n",
    "    Encode categorical features\n",
    "    \"\"\"\n",
    "    # Separate features and target\n",
    "    if target_col in train_df.columns:\n",
    "        X_train = train_df.drop(columns=[target_col])\n",
    "        y_train = train_df[target_col]\n",
    "    else:\n",
    "        X_train = train_df.copy()\n",
    "        y_train = None\n",
    "    \n",
    "    X_test = test_df.copy()\n",
    "    \n",
    "    # Get categorical and numerical features\n",
    "    categorical_features = X_train.select_dtypes(include=['object']).columns.tolist()\n",
    "    numerical_features = X_train.select_dtypes(include=[np.number]).columns.tolist()\n",
    "    \n",
    "    # Remove ID column if present\n",
    "    if 'Id' in numerical_features:\n",
    "        numerical_features.remove('Id')\n",
    "        X_train = X_train.drop('Id', axis=1)\n",
    "        X_test = X_test.drop('Id', axis=1)\n",
    "    \n",
    "    # One-hot encoding for categorical features\n",
    "    X_train_encoded = pd.get_dummies(X_train, columns=categorical_features, drop_first=True)\n",
    "    X_test_encoded = pd.get_dummies(X_test, columns=categorical_features, drop_first=True)\n",
    "    \n",
    "    # Align columns between train and test\n",
    "    missing_cols_test = set(X_train_encoded.columns) - set(X_test_encoded.columns)\n",
    "    missing_cols_train = set(X_test_encoded.columns) - set(X_train_encoded.columns)\n",
    "    \n",
    "    # Add missing columns to test set\n",
    "    for col in missing_cols_test:\n",
    "        X_test_encoded[col] = 0\n",
    "    \n",
    "    # Add missing columns to train set\n",
    "    for col in missing_cols_train:\n",
    "        X_train_encoded[col] = 0\n",
    "    \n",
    "    # Reorder columns\n",
    "    X_test_encoded = X_test_encoded[X_train_encoded.columns]\n",
    "    \n",
    "    return X_train_encoded, X_test_encoded, y_train"
   ],
   "outputs": [],
   "execution_count": 11
  },
  {
   "cell_type": "code",
   "metadata": {
    "ExecuteTime": {
     "end_time": "2025-06-24T12:24:28.890759Z",
     "start_time": "2025-06-24T12:24:27.606670Z"
    }
   },
   "source": [
    "# Apply encoding\n",
    "with mlflow.start_run(run_name=\"Feature_Encoding\"):\n",
    "    X_train_encoded, X_test_encoded, y_train = encode_features(train_fe, test_fe)\n",
    "    \n",
    "    print(f\"Encoded training features shape: {X_train_encoded.shape}\")\n",
    "    print(f\"Encoded test features shape: {X_test_encoded.shape}\")\n",
    "    \n",
    "    mlflow.log_param(\"encoded_features_count\", X_train_encoded.shape[1])\n",
    "    mlflow.log_param(\"train_samples\", X_train_encoded.shape[0])"
   ],
   "outputs": [
    {
     "name": "stdout",
     "output_type": "stream",
     "text": [
      "Encoded training features shape: (1458, 269)\n",
      "Encoded test features shape: (1459, 269)\n",
      "🏃 View run Feature_Encoding at: https://dagshub.com/g-kitiashvili/ML-assignment1.mlflow/#/experiments/0/runs/416cd0c509d9451c90b898284a3b38a0\n",
      "🧪 View experiment at: https://dagshub.com/g-kitiashvili/ML-assignment1.mlflow/#/experiments/0\n"
     ]
    }
   ],
   "execution_count": 12
  },
  {
   "cell_type": "markdown",
   "metadata": {},
   "source": [
    "## 6. Feature Selection"
   ]
  },
  {
   "cell_type": "code",
   "metadata": {
    "ExecuteTime": {
     "end_time": "2025-06-24T12:24:31.385074Z",
     "start_time": "2025-06-24T12:24:31.379003Z"
    }
   },
   "source": [
    "def perform_feature_selection(X_train, y_train, method='all'):\n",
    "    \"\"\"\n",
    "    Perform feature selection using different methods\n",
    "    \"\"\"\n",
    "    results = {}\n",
    "    \n",
    "    if method == 'univariate' or method == 'all':\n",
    "        # Univariate feature selection\n",
    "        selector_univariate = SelectKBest(score_func=f_regression, k=50)\n",
    "        X_train_univariate = selector_univariate.fit_transform(X_train, y_train)\n",
    "        selected_features_univariate = X_train.columns[selector_univariate.get_support()].tolist()\n",
    "        results['univariate'] = {\n",
    "            'selector': selector_univariate,\n",
    "            'features': selected_features_univariate,\n",
    "            'X_transformed': X_train_univariate\n",
    "        }\n",
    "    \n",
    "    if method == 'rfe' or method == 'all':\n",
    "        # Recursive Feature Elimination\n",
    "        estimator = RandomForestRegressor(n_estimators=50, random_state=42)\n",
    "        selector_rfe = RFE(estimator, n_features_to_select=50)\n",
    "        X_train_rfe = selector_rfe.fit_transform(X_train, y_train)\n",
    "        selected_features_rfe = X_train.columns[selector_rfe.get_support()].tolist()\n",
    "        results['rfe'] = {\n",
    "            'selector': selector_rfe,\n",
    "            'features': selected_features_rfe,\n",
    "            'X_transformed': X_train_rfe\n",
    "        }\n",
    "    \n",
    "    if method == 'lasso' or method == 'all':\n",
    "        # L1-based feature selection\n",
    "        lasso = Lasso(alpha=0.01, random_state=42)\n",
    "        selector_lasso = SelectFromModel(lasso)\n",
    "        X_train_lasso = selector_lasso.fit_transform(X_train, y_train)\n",
    "        selected_features_lasso = X_train.columns[selector_lasso.get_support()].tolist()\n",
    "        results['lasso'] = {\n",
    "            'selector': selector_lasso,\n",
    "            'features': selected_features_lasso,\n",
    "            'X_transformed': X_train_lasso\n",
    "        }\n",
    "    \n",
    "    return results"
   ],
   "outputs": [],
   "execution_count": 13
  },
  {
   "cell_type": "code",
   "metadata": {
    "ExecuteTime": {
     "end_time": "2025-06-24T12:31:07.519851Z",
     "start_time": "2025-06-24T12:24:32.439107Z"
    }
   },
   "source": [
    "# Perform feature selection experiments\n",
    "feature_selection_methods = ['univariate', 'rfe', 'lasso']\n",
    "selection_results = {}\n",
    "\n",
    "for method in feature_selection_methods:\n",
    "    with mlflow.start_run(run_name=f\"Feature_Selection_{method}\"):\n",
    "        result = perform_feature_selection(X_train_encoded, y_train, method=method)\n",
    "        selection_results[method] = result[method]\n",
    "        \n",
    "        print(f\"\\n{method.upper()} Feature Selection:\")\n",
    "        print(f\"Selected {len(result[method]['features'])} features\")\n",
    "        \n",
    "        mlflow.log_param(\"selection_method\", method)\n",
    "        mlflow.log_param(\"selected_features_count\", len(result[method]['features']))\n",
    "        mlflow.log_param(\"original_features_count\", X_train_encoded.shape[1])"
   ],
   "outputs": [
    {
     "name": "stdout",
     "output_type": "stream",
     "text": [
      "\n",
      "UNIVARIATE Feature Selection:\n",
      "Selected 50 features\n",
      "🏃 View run Feature_Selection_univariate at: https://dagshub.com/g-kitiashvili/ML-assignment1.mlflow/#/experiments/0/runs/86f9bca1844f418698625934c22d5024\n",
      "🧪 View experiment at: https://dagshub.com/g-kitiashvili/ML-assignment1.mlflow/#/experiments/0\n",
      "\n",
      "RFE Feature Selection:\n",
      "Selected 50 features\n",
      "🏃 View run Feature_Selection_rfe at: https://dagshub.com/g-kitiashvili/ML-assignment1.mlflow/#/experiments/0/runs/464717d64e6e41d48ae3ede9c311fe4c\n",
      "🧪 View experiment at: https://dagshub.com/g-kitiashvili/ML-assignment1.mlflow/#/experiments/0\n",
      "\n",
      "LASSO Feature Selection:\n",
      "Selected 268 features\n",
      "🏃 View run Feature_Selection_lasso at: https://dagshub.com/g-kitiashvili/ML-assignment1.mlflow/#/experiments/0/runs/798a5f61a05a41e8b78f90eec8973700\n",
      "🧪 View experiment at: https://dagshub.com/g-kitiashvili/ML-assignment1.mlflow/#/experiments/0\n"
     ]
    }
   ],
   "execution_count": 14
  },
  {
   "cell_type": "markdown",
   "metadata": {},
   "source": [
    "## 7. Model Training and Evaluation"
   ]
  },
  {
   "cell_type": "code",
   "metadata": {
    "ExecuteTime": {
     "end_time": "2025-06-24T12:31:36.134606Z",
     "start_time": "2025-06-24T12:31:36.115353Z"
    }
   },
   "source": [
    "def evaluate_model(model, X_train, y_train, cv=5):\n",
    "    \"\"\"\n",
    "    Evaluate model using cross-validation\n",
    "    \"\"\"\n",
    "    # Cross-validation scores\n",
    "    cv_scores = cross_val_score(model, X_train, y_train, cv=cv, \n",
    "                               scoring='neg_mean_squared_error')\n",
    "    rmse_scores = np.sqrt(-cv_scores)\n",
    "    \n",
    "    # Train on full training set for additional metrics\n",
    "    model.fit(X_train, y_train)\n",
    "    y_pred = model.predict(X_train)\n",
    "    \n",
    "    train_rmse = np.sqrt(mean_squared_error(y_train, y_pred))\n",
    "    train_r2 = r2_score(y_train, y_pred)\n",
    "    train_mae = mean_absolute_error(y_train, y_pred)\n",
    "    \n",
    "    return {\n",
    "        'cv_rmse_mean': rmse_scores.mean(),\n",
    "        'cv_rmse_std': rmse_scores.std(),\n",
    "        'train_rmse': train_rmse,\n",
    "        'train_r2': train_r2,\n",
    "        'train_mae': train_mae,\n",
    "        'fitted_model': model\n",
    "    }"
   ],
   "outputs": [],
   "execution_count": 15
  },
  {
   "cell_type": "code",
   "metadata": {
    "ExecuteTime": {
     "end_time": "2025-06-24T12:31:36.963954Z",
     "start_time": "2025-06-24T12:31:36.955345Z"
    }
   },
   "source": [
    "# Models to test\n",
    "models = {\n",
    "    'Linear_Regression': LinearRegression(),\n",
    "    'Ridge': Ridge(alpha=1.0),\n",
    "    'Lasso': Lasso(alpha=0.01),\n",
    "    'ElasticNet': ElasticNet(alpha=0.01),\n",
    "    'Random_Forest': RandomForestRegressor(n_estimators=100, random_state=42),\n",
    "    'XGBoost': xgb.XGBRegressor(n_estimators=100, random_state=42)\n",
    "}"
   ],
   "outputs": [],
   "execution_count": 16
  },
  {
   "cell_type": "code",
   "metadata": {
    "ExecuteTime": {
     "end_time": "2025-06-24T12:38:17.372923Z",
     "start_time": "2025-06-24T12:31:38.626580Z"
    }
   },
   "source": [
    "# Test models with different feature selection methods\n",
    "best_model_info = {'score': float('inf'), 'model': None, 'features': None, 'method': None}\n",
    "\n",
    "for selection_method in ['univariate', 'rfe', 'lasso']:\n",
    "    X_selected = selection_results[selection_method]['X_transformed']\n",
    "    selected_features = selection_results[selection_method]['features']\n",
    "    \n",
    "    for model_name, model in models.items():\n",
    "        with mlflow.start_run(run_name=f\"{model_name}_{selection_method}\"):\n",
    "            try:\n",
    "                # Evaluate model\n",
    "                results = evaluate_model(model, X_selected, y_train)\n",
    "                \n",
    "                # Log parameters\n",
    "                mlflow.log_param(\"model_type\", model_name)\n",
    "                mlflow.log_param(\"feature_selection\", selection_method)\n",
    "                mlflow.log_param(\"n_features\", len(selected_features))\n",
    "                \n",
    "                # Log metrics\n",
    "                mlflow.log_metric(\"cv_rmse_mean\", results['cv_rmse_mean'])\n",
    "                mlflow.log_metric(\"cv_rmse_std\", results['cv_rmse_std'])\n",
    "                mlflow.log_metric(\"train_rmse\", results['train_rmse'])\n",
    "                mlflow.log_metric(\"train_r2\", results['train_r2'])\n",
    "                mlflow.log_metric(\"train_mae\", results['train_mae'])\n",
    "                \n",
    "                # Log model\n",
    "                mlflow.sklearn.log_model(results['fitted_model'], f\"model_{model_name}\")\n",
    "                \n",
    "                print(f\"{model_name} with {selection_method}: CV RMSE = {results['cv_rmse_mean']:.4f} (+/- {results['cv_rmse_std']:.4f})\")\n",
    "                \n",
    "                # Track best model\n",
    "                if results['cv_rmse_mean'] < best_model_info['score']:\n",
    "                    best_model_info = {\n",
    "                        'score': results['cv_rmse_mean'],\n",
    "                        'model': results['fitted_model'],\n",
    "                        'features': selected_features,\n",
    "                        'method': selection_method,\n",
    "                        'model_name': model_name\n",
    "                    }\n",
    "                    \n",
    "            except Exception as e:\n",
    "                print(f\"Error with {model_name} and {selection_method}: {e}\")\n",
    "\n",
    "print(f\"\\nBest model: {best_model_info['model_name']} with {best_model_info['method']} selection\")\n",
    "print(f\"Best CV RMSE: {best_model_info['score']:.4f}\")"
   ],
   "outputs": [
    {
     "name": "stderr",
     "output_type": "stream",
     "text": [
      "2025/06/24 16:31:53 WARNING mlflow.models.model: Model logged without a signature and input example. Please set `input_example` parameter when logging the model to auto infer the model signature.\n"
     ]
    },
    {
     "name": "stdout",
     "output_type": "stream",
     "text": [
      "Linear_Regression with univariate: CV RMSE = 28377.5344 (+/- 2077.4570)\n",
      "🏃 View run Linear_Regression_univariate at: https://dagshub.com/g-kitiashvili/ML-assignment1.mlflow/#/experiments/0/runs/cb09790933fc41a0b856cb47e628d5ff\n",
      "🧪 View experiment at: https://dagshub.com/g-kitiashvili/ML-assignment1.mlflow/#/experiments/0\n"
     ]
    },
    {
     "name": "stderr",
     "output_type": "stream",
     "text": [
      "2025/06/24 16:32:04 WARNING mlflow.models.model: Model logged without a signature and input example. Please set `input_example` parameter when logging the model to auto infer the model signature.\n"
     ]
    },
    {
     "name": "stdout",
     "output_type": "stream",
     "text": [
      "Ridge with univariate: CV RMSE = 28267.0337 (+/- 2048.7898)\n",
      "🏃 View run Ridge_univariate at: https://dagshub.com/g-kitiashvili/ML-assignment1.mlflow/#/experiments/0/runs/8766df816dbf4a4d8eded9ff275131c7\n",
      "🧪 View experiment at: https://dagshub.com/g-kitiashvili/ML-assignment1.mlflow/#/experiments/0\n"
     ]
    },
    {
     "name": "stderr",
     "output_type": "stream",
     "text": [
      "2025/06/24 16:32:23 WARNING mlflow.models.model: Model logged without a signature and input example. Please set `input_example` parameter when logging the model to auto infer the model signature.\n"
     ]
    },
    {
     "name": "stdout",
     "output_type": "stream",
     "text": [
      "Lasso with univariate: CV RMSE = 28376.6336 (+/- 2076.2186)\n",
      "🏃 View run Lasso_univariate at: https://dagshub.com/g-kitiashvili/ML-assignment1.mlflow/#/experiments/0/runs/9dc08bfa2d6247ef9c971e0c52467dfa\n",
      "🧪 View experiment at: https://dagshub.com/g-kitiashvili/ML-assignment1.mlflow/#/experiments/0\n"
     ]
    },
    {
     "name": "stderr",
     "output_type": "stream",
     "text": [
      "2025/06/24 16:32:51 WARNING mlflow.models.model: Model logged without a signature and input example. Please set `input_example` parameter when logging the model to auto infer the model signature.\n"
     ]
    },
    {
     "name": "stdout",
     "output_type": "stream",
     "text": [
      "ElasticNet with univariate: CV RMSE = 28232.6239 (+/- 2113.0378)\n",
      "🏃 View run ElasticNet_univariate at: https://dagshub.com/g-kitiashvili/ML-assignment1.mlflow/#/experiments/0/runs/bac0cadd2f0847228d3c8bb843443341\n",
      "🧪 View experiment at: https://dagshub.com/g-kitiashvili/ML-assignment1.mlflow/#/experiments/0\n"
     ]
    },
    {
     "name": "stderr",
     "output_type": "stream",
     "text": [
      "2025/06/24 16:33:21 WARNING mlflow.models.model: Model logged without a signature and input example. Please set `input_example` parameter when logging the model to auto infer the model signature.\n"
     ]
    },
    {
     "name": "stdout",
     "output_type": "stream",
     "text": [
      "Random_Forest with univariate: CV RMSE = 26523.1364 (+/- 1732.6275)\n",
      "🏃 View run Random_Forest_univariate at: https://dagshub.com/g-kitiashvili/ML-assignment1.mlflow/#/experiments/0/runs/8e1c2194e1f04254ab40e00ecaf9dfb5\n",
      "🧪 View experiment at: https://dagshub.com/g-kitiashvili/ML-assignment1.mlflow/#/experiments/0\n",
      "Error with XGBoost and univariate: 'super' object has no attribute '__sklearn_tags__'\n",
      "🏃 View run XGBoost_univariate at: https://dagshub.com/g-kitiashvili/ML-assignment1.mlflow/#/experiments/0/runs/34987941b7fd4eb0b458fcb6a1573b75\n",
      "🧪 View experiment at: https://dagshub.com/g-kitiashvili/ML-assignment1.mlflow/#/experiments/0\n"
     ]
    },
    {
     "name": "stderr",
     "output_type": "stream",
     "text": [
      "2025/06/24 16:33:43 WARNING mlflow.models.model: Model logged without a signature and input example. Please set `input_example` parameter when logging the model to auto infer the model signature.\n"
     ]
    },
    {
     "name": "stdout",
     "output_type": "stream",
     "text": [
      "Linear_Regression with rfe: CV RMSE = 26940.5671 (+/- 2817.8648)\n",
      "🏃 View run Linear_Regression_rfe at: https://dagshub.com/g-kitiashvili/ML-assignment1.mlflow/#/experiments/0/runs/99ff68ddb587454ba612ca03b41548b4\n",
      "🧪 View experiment at: https://dagshub.com/g-kitiashvili/ML-assignment1.mlflow/#/experiments/0\n"
     ]
    },
    {
     "name": "stderr",
     "output_type": "stream",
     "text": [
      "2025/06/24 16:34:41 WARNING mlflow.models.model: Model logged without a signature and input example. Please set `input_example` parameter when logging the model to auto infer the model signature.\n"
     ]
    },
    {
     "name": "stdout",
     "output_type": "stream",
     "text": [
      "Ridge with rfe: CV RMSE = 26934.6802 (+/- 2826.8236)\n",
      "🏃 View run Ridge_rfe at: https://dagshub.com/g-kitiashvili/ML-assignment1.mlflow/#/experiments/0/runs/84e14929ce7843a5a1206dd87968b4df\n",
      "🧪 View experiment at: https://dagshub.com/g-kitiashvili/ML-assignment1.mlflow/#/experiments/0\n"
     ]
    },
    {
     "name": "stderr",
     "output_type": "stream",
     "text": [
      "2025/06/24 16:34:53 WARNING mlflow.models.model: Model logged without a signature and input example. Please set `input_example` parameter when logging the model to auto infer the model signature.\n"
     ]
    },
    {
     "name": "stdout",
     "output_type": "stream",
     "text": [
      "Lasso with rfe: CV RMSE = 26940.5225 (+/- 2817.8741)\n",
      "🏃 View run Lasso_rfe at: https://dagshub.com/g-kitiashvili/ML-assignment1.mlflow/#/experiments/0/runs/b4070bb77d3f46aaafb83c1819b7fd0b\n",
      "🧪 View experiment at: https://dagshub.com/g-kitiashvili/ML-assignment1.mlflow/#/experiments/0\n"
     ]
    },
    {
     "name": "stderr",
     "output_type": "stream",
     "text": [
      "2025/06/24 16:35:10 WARNING mlflow.models.model: Model logged without a signature and input example. Please set `input_example` parameter when logging the model to auto infer the model signature.\n"
     ]
    },
    {
     "name": "stdout",
     "output_type": "stream",
     "text": [
      "ElasticNet with rfe: CV RMSE = 26936.8807 (+/- 2859.6505)\n",
      "🏃 View run ElasticNet_rfe at: https://dagshub.com/g-kitiashvili/ML-assignment1.mlflow/#/experiments/0/runs/25e0c1c8baf04458a070a806af3fe815\n",
      "🧪 View experiment at: https://dagshub.com/g-kitiashvili/ML-assignment1.mlflow/#/experiments/0\n"
     ]
    },
    {
     "name": "stderr",
     "output_type": "stream",
     "text": [
      "2025/06/24 16:35:48 WARNING mlflow.models.model: Model logged without a signature and input example. Please set `input_example` parameter when logging the model to auto infer the model signature.\n"
     ]
    },
    {
     "name": "stdout",
     "output_type": "stream",
     "text": [
      "Random_Forest with rfe: CV RMSE = 26123.7508 (+/- 1811.5131)\n",
      "🏃 View run Random_Forest_rfe at: https://dagshub.com/g-kitiashvili/ML-assignment1.mlflow/#/experiments/0/runs/7f9f3d25b20546f0af96bd8150a4b833\n",
      "🧪 View experiment at: https://dagshub.com/g-kitiashvili/ML-assignment1.mlflow/#/experiments/0\n",
      "Error with XGBoost and rfe: 'super' object has no attribute '__sklearn_tags__'\n",
      "🏃 View run XGBoost_rfe at: https://dagshub.com/g-kitiashvili/ML-assignment1.mlflow/#/experiments/0/runs/e87b7e186e1f4fa9a643699ae1cf5379\n",
      "🧪 View experiment at: https://dagshub.com/g-kitiashvili/ML-assignment1.mlflow/#/experiments/0\n"
     ]
    },
    {
     "name": "stderr",
     "output_type": "stream",
     "text": [
      "2025/06/24 16:36:08 WARNING mlflow.models.model: Model logged without a signature and input example. Please set `input_example` parameter when logging the model to auto infer the model signature.\n"
     ]
    },
    {
     "name": "stdout",
     "output_type": "stream",
     "text": [
      "Linear_Regression with lasso: CV RMSE = 28087.2235 (+/- 3506.8106)\n",
      "🏃 View run Linear_Regression_lasso at: https://dagshub.com/g-kitiashvili/ML-assignment1.mlflow/#/experiments/0/runs/b622b49519e84c9989290917a3f91c3b\n",
      "🧪 View experiment at: https://dagshub.com/g-kitiashvili/ML-assignment1.mlflow/#/experiments/0\n"
     ]
    },
    {
     "name": "stderr",
     "output_type": "stream",
     "text": [
      "2025/06/24 16:36:26 WARNING mlflow.models.model: Model logged without a signature and input example. Please set `input_example` parameter when logging the model to auto infer the model signature.\n"
     ]
    },
    {
     "name": "stdout",
     "output_type": "stream",
     "text": [
      "Ridge with lasso: CV RMSE = 25551.2349 (+/- 2183.7380)\n",
      "🏃 View run Ridge_lasso at: https://dagshub.com/g-kitiashvili/ML-assignment1.mlflow/#/experiments/0/runs/dd2e23ad32e64cbb8db307d81bbba968\n",
      "🧪 View experiment at: https://dagshub.com/g-kitiashvili/ML-assignment1.mlflow/#/experiments/0\n"
     ]
    },
    {
     "name": "stderr",
     "output_type": "stream",
     "text": [
      "2025/06/24 16:36:44 WARNING mlflow.models.model: Model logged without a signature and input example. Please set `input_example` parameter when logging the model to auto infer the model signature.\n"
     ]
    },
    {
     "name": "stdout",
     "output_type": "stream",
     "text": [
      "Lasso with lasso: CV RMSE = 27429.5309 (+/- 2876.6668)\n",
      "🏃 View run Lasso_lasso at: https://dagshub.com/g-kitiashvili/ML-assignment1.mlflow/#/experiments/0/runs/c116e43c2f61473fba8415c03f7eb0d9\n",
      "🧪 View experiment at: https://dagshub.com/g-kitiashvili/ML-assignment1.mlflow/#/experiments/0\n"
     ]
    },
    {
     "name": "stderr",
     "output_type": "stream",
     "text": [
      "2025/06/24 16:37:03 WARNING mlflow.models.model: Model logged without a signature and input example. Please set `input_example` parameter when logging the model to auto infer the model signature.\n"
     ]
    },
    {
     "name": "stdout",
     "output_type": "stream",
     "text": [
      "ElasticNet with lasso: CV RMSE = 24767.5826 (+/- 2460.3353)\n",
      "🏃 View run ElasticNet_lasso at: https://dagshub.com/g-kitiashvili/ML-assignment1.mlflow/#/experiments/0/runs/25e612102c784080a55ea85e18f7949b\n",
      "🧪 View experiment at: https://dagshub.com/g-kitiashvili/ML-assignment1.mlflow/#/experiments/0\n"
     ]
    },
    {
     "name": "stderr",
     "output_type": "stream",
     "text": [
      "2025/06/24 16:38:02 WARNING mlflow.models.model: Model logged without a signature and input example. Please set `input_example` parameter when logging the model to auto infer the model signature.\n"
     ]
    },
    {
     "name": "stdout",
     "output_type": "stream",
     "text": [
      "Random_Forest with lasso: CV RMSE = 26228.6361 (+/- 1879.3054)\n",
      "🏃 View run Random_Forest_lasso at: https://dagshub.com/g-kitiashvili/ML-assignment1.mlflow/#/experiments/0/runs/60223a7b7d0f4213bea6ea599027f1de\n",
      "🧪 View experiment at: https://dagshub.com/g-kitiashvili/ML-assignment1.mlflow/#/experiments/0\n",
      "Error with XGBoost and lasso: 'super' object has no attribute '__sklearn_tags__'\n",
      "🏃 View run XGBoost_lasso at: https://dagshub.com/g-kitiashvili/ML-assignment1.mlflow/#/experiments/0/runs/70e2da4900894764a27b8c2ed1ac480a\n",
      "🧪 View experiment at: https://dagshub.com/g-kitiashvili/ML-assignment1.mlflow/#/experiments/0\n",
      "\n",
      "Best model: ElasticNet with lasso selection\n",
      "Best CV RMSE: 24767.5826\n"
     ]
    }
   ],
   "execution_count": 17
  },
  {
   "cell_type": "markdown",
   "metadata": {},
   "source": [
    "## 8. Hyperparameter Optimization"
   ]
  },
  {
   "cell_type": "code",
   "metadata": {
    "ExecuteTime": {
     "end_time": "2025-06-24T12:38:26.800513Z",
     "start_time": "2025-06-24T12:38:26.790755Z"
    }
   },
   "source": [
    "# Hyperparameter tuning for the best model type\n",
    "if 'Random_Forest' in best_model_info['model_name']:\n",
    "    param_grid = {\n",
    "        'n_estimators': [100, 200, 300],\n",
    "        'max_depth': [10, 20, None],\n",
    "        'min_samples_split': [2, 5, 10],\n",
    "        'min_samples_leaf': [1, 2, 4]\n",
    "    }\n",
    "    base_model = RandomForestRegressor(random_state=42)\n",
    "elif 'XGBoost' in best_model_info['model_name']:\n",
    "    param_grid = {\n",
    "        'n_estimators': [100, 200, 300],\n",
    "        'learning_rate': [0.01, 0.1, 0.2],\n",
    "        'max_depth': [3, 5, 7],\n",
    "        'subsample': [0.8, 0.9, 1.0]\n",
    "    }\n",
    "    base_model = xgb.XGBRegressor(random_state=42)\n",
    "else:\n",
    "    param_grid = {'alpha': [0.001, 0.01, 0.1, 1.0, 10.0]}\n",
    "    if 'Ridge' in best_model_info['model_name']:\n",
    "        base_model = Ridge()\n",
    "    else:\n",
    "        base_model = Lasso()"
   ],
   "outputs": [],
   "execution_count": 18
  },
  {
   "cell_type": "code",
   "metadata": {
    "ExecuteTime": {
     "end_time": "2025-06-24T12:38:53.675606Z",
     "start_time": "2025-06-24T12:38:27.839037Z"
    }
   },
   "source": [
    "# Get the features for the best selection method\n",
    "best_selector = selection_results[best_model_info['method']]['selector']\n",
    "X_train_best = best_selector.transform(X_train_encoded)\n",
    "\n",
    "with mlflow.start_run(run_name=\"Hyperparameter_Optimization\"):\n",
    "    # Grid search\n",
    "    grid_search = GridSearchCV(\n",
    "        base_model, \n",
    "        param_grid, \n",
    "        cv=5, \n",
    "        scoring='neg_mean_squared_error',\n",
    "        n_jobs=-1\n",
    "    )\n",
    "    \n",
    "    grid_search.fit(X_train_best, y_train)\n",
    "    \n",
    "    # Log best parameters and score\n",
    "    mlflow.log_params(grid_search.best_params_)\n",
    "    mlflow.log_metric(\"best_cv_rmse\", np.sqrt(-grid_search.best_score_))\n",
    "    \n",
    "    # Log the best model\n",
    "    mlflow.sklearn.log_model(grid_search.best_estimator_, \"best_model\")\n",
    "    \n",
    "    print(f\"Best parameters: {grid_search.best_params_}\")\n",
    "    print(f\"Best CV RMSE: {np.sqrt(-grid_search.best_score_):.4f}\")"
   ],
   "outputs": [
    {
     "name": "stderr",
     "output_type": "stream",
     "text": [
      "2025/06/24 16:38:50 WARNING mlflow.models.model: Model logged without a signature and input example. Please set `input_example` parameter when logging the model to auto infer the model signature.\n"
     ]
    },
    {
     "name": "stdout",
     "output_type": "stream",
     "text": [
      "Best parameters: {'alpha': 10.0}\n",
      "Best CV RMSE: 26300.6107\n",
      "🏃 View run Hyperparameter_Optimization at: https://dagshub.com/g-kitiashvili/ML-assignment1.mlflow/#/experiments/0/runs/c57dbed30ca24f1c8932e8d3ab0caf4a\n",
      "🧪 View experiment at: https://dagshub.com/g-kitiashvili/ML-assignment1.mlflow/#/experiments/0\n"
     ]
    }
   ],
   "execution_count": 19
  },
  {
   "cell_type": "markdown",
   "metadata": {},
   "source": [
    "## 9. Final Model Registration"
   ]
  },
  {
   "cell_type": "code",
   "metadata": {
    "ExecuteTime": {
     "end_time": "2025-06-24T12:42:17.466705Z",
     "start_time": "2025-06-24T12:42:04.137115Z"
    }
   },
   "source": [
    "# Register the best model\n",
    "with mlflow.start_run(run_name=\"Final_Model_Registration\"):\n",
    "    # Final model training and evaluation\n",
    "    final_model = grid_search.best_estimator_\n",
    "    final_model.fit(X_train_best, y_train)\n",
    "    \n",
    "    # Final predictions and metrics\n",
    "    y_pred_final = final_model.predict(X_train_best)\n",
    "    final_rmse = np.sqrt(mean_squared_error(y_train, y_pred_final))\n",
    "    final_r2 = r2_score(y_train, y_pred_final)\n",
    "    final_mae = mean_absolute_error(y_train, y_pred_final)\n",
    "    \n",
    "    # Log final metrics\n",
    "    mlflow.log_metric(\"final_rmse\", final_rmse)\n",
    "    mlflow.log_metric(\"final_r2\", final_r2)\n",
    "    mlflow.log_metric(\"final_mae\", final_mae)\n",
    "    mlflow.log_param(\"final_model_type\", best_model_info['model_name'])\n",
    "    mlflow.log_param(\"final_feature_selection\", best_model_info['method'])\n",
    "    \n",
    "    # Log model for registration\n",
    "    model_info = mlflow.sklearn.log_model(\n",
    "        final_model, \n",
    "        \"final_model\",\n",
    "        registered_model_name=\"house_prices_final_model\"\n",
    "    )\n",
    "    \n",
    "    print(f\"Final model registered with RMSE: {final_rmse:.4f}\")\n",
    "    print(f\"Model URI: {model_info.model_uri}\")"
   ],
   "outputs": [
    {
     "name": "stderr",
     "output_type": "stream",
     "text": [
      "2025/06/24 16:42:12 WARNING mlflow.models.model: Model logged without a signature and input example. Please set `input_example` parameter when logging the model to auto infer the model signature.\n",
      "Registered model 'house_prices_final_model' already exists. Creating a new version of this model...\n",
      "2025/06/24 16:42:16 INFO mlflow.store.model_registry.abstract_store: Waiting up to 300 seconds for model version to finish creation. Model name: house_prices_final_model, version 2\n",
      "Created version '2' of model 'house_prices_final_model'.\n"
     ]
    },
    {
     "name": "stdout",
     "output_type": "stream",
     "text": [
      "Final model registered with RMSE: 19718.6240\n",
      "Model URI: runs:/dede48411cd04cb0beb34da9cdc2f85e/final_model\n",
      "🏃 View run Final_Model_Registration at: https://dagshub.com/g-kitiashvili/ML-assignment1.mlflow/#/experiments/0/runs/dede48411cd04cb0beb34da9cdc2f85e\n",
      "🧪 View experiment at: https://dagshub.com/g-kitiashvili/ML-assignment1.mlflow/#/experiments/0\n"
     ]
    }
   ],
   "execution_count": 20
  }
 ],
 "metadata": {
  "kernelspec": {
   "display_name": "Python 3",
   "language": "python",
   "name": "python3"
  },
  "language_info": {
   "codemirror_mode": {
    "name": "ipython",
    "version": 3
   },
   "file_extension": ".py",
   "mimetype": "text/x-python",
   "name": "python",
   "nbconvert_exporter": "python",
   "pygments_lexer": "ipython3",
   "version": "3.8.5"
  }
 },
 "nbformat": 4,
 "nbformat_minor": 4
}
