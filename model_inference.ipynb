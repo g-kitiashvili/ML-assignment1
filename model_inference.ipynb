{
 "cells": [
  {
   "cell_type": "markdown",
   "metadata": {},
   "source": [
    "# House Prices – Model Inference\n",
    "\n",
    "Test Set Prediction using the Best Model from Model Registry"
   ]
  },
  {
   "cell_type": "markdown",
   "metadata": {},
   "source": [
    "## 1. Setup and Imports"
   ]
  },
  {
   "cell_type": "code",
   "execution_count": null,
   "metadata": {},
   "outputs": [],
   "source": [
    "%pip install -q dagshub mlflow\n",
    "\n",
    "import os\n",
    "import pandas as pd\n",
    "import numpy as np\n",
    "import mlflow\n",
    "import mlflow.sklearn\n",
    "from mlflow.tracking import MlflowClient\n",
    "import warnings\n",
    "warnings.filterwarnings('ignore')\n",
    "\n",
    "os.environ['MLFLOW_TRACKING_URI'] = 'https://dagshub.com/g-kitiashvili/ML-assignment1.mlflow'\n",
    "os.environ['MLFLOW_TRACKING_USERNAME'] = 'g-kitiashvili'\n",
    "os.environ['MLFLOW_TRACKING_PASSWORD'] = '1c2227158cc19daf66bb3b241116a8e8c5f1cd20'\n",
    "\n",
    "print(\"House Prices - Model Inference\")\n",
    "print(\"=\" * 50)"
   ]
  },
  {
   "cell_type": "markdown",
   "metadata": {},
   "source": [
    "## 2. Load Test Data and Preprocessing Functions"
   ]
  },
  {
   "cell_type": "code",
   "execution_count": null,
   "metadata": {},
   "outputs": [],
   "source": [
    "# Load test data\n",
    "test_data = pd.read_csv('house-prices-advanced-regression-techniques/test.csv')\n",
    "test_ids = test_data['Id'].copy()\n",
    "print(f\"Test data shape: {test_data.shape}\")\n",
    "\n",
    "def clean_data(df, is_train=True):\n",
    "    df_clean = df.copy()\n",
    "    if is_train:\n",
    "        df_clean = df_clean.drop(\n",
    "            df_clean[(df_clean['GrLivArea'] > 4000) &\n",
    "                     (df_clean['SalePrice'] < 300000)].index\n",
    "        )\n",
    "    cat_na = ['Alley','BsmtQual','BsmtCond','BsmtExposure','BsmtFinType1',\n",
    "              'BsmtFinType2','FireplaceQu','GarageType','GarageFinish',\n",
    "              'GarageQual','GarageCond','PoolQC','Fence','MiscFeature']\n",
    "    for feat in cat_na:\n",
    "        if feat in df_clean:\n",
    "            df_clean[feat] = df_clean[feat].fillna('None')\n",
    "    num_zero = ['BsmtFinSF1','BsmtFinSF2','BsmtUnfSF','TotalBsmtSF',\n",
    "                'BsmtFullBath','BsmtHalfBath','GarageYrBlt','GarageArea',\n",
    "                'GarageCars','MasVnrArea']\n",
    "    for feat in num_zero:\n",
    "        if feat in df_clean:\n",
    "            df_clean[feat] = df_clean[feat].fillna(0)\n",
    "    for feat in df_clean.select_dtypes('object'):\n",
    "        if df_clean[feat].isnull().any():\n",
    "            df_clean[feat] = df_clean[feat].fillna(df_clean[feat].mode()[0])\n",
    "    for feat in df_clean.select_dtypes(include=[np.number]):\n",
    "        if df_clean[feat].isnull().any():\n",
    "            df_clean[feat] = df_clean[feat].fillna(df_clean[feat].median())\n",
    "    return df_clean\n",
    "\n",
    "def feature_engineering(df):\n",
    "    df_fe = df.copy()\n",
    "    df_fe['TotalSF'] = df_fe['TotalBsmtSF'] + df_fe['1stFlrSF'] + df_fe['2ndFlrSF']\n",
    "    df_fe['Total_Bathrooms'] = (df_fe['FullBath'] + 0.5*df_fe['HalfBath'] +\n",
    "                               df_fe['BsmtFullBath'] + 0.5*df_fe['BsmtHalfBath'])\n",
    "    df_fe['Total_porch_sf'] = (df_fe['OpenPorchSF'] + df_fe['3SsnPorch'] +\n",
    "                              df_fe['EnclosedPorch'] + df_fe['ScreenPorch'] +\n",
    "                              df_fe['WoodDeckSF'])\n",
    "    df_fe['HouseAge'] = df_fe['YrSold'] - df_fe['YearBuilt']\n",
    "    df_fe['RemodAge'] = df_fe['YrSold'] - df_fe['YearRemodAdd']\n",
    "    df_fe['GarageAge'] = (df_fe['YrSold'] - df_fe['GarageYrBlt']).fillna(0)\n",
    "    df_fe['HasBasement']  = (df_fe['TotalBsmtSF'] > 0).astype(int)\n",
    "    df_fe['HasGarage']    = (df_fe['GarageArea']  > 0).astype(int)\n",
    "    df_fe['HasFireplace'] = (df_fe['Fireplaces'] > 0).astype(int)\n",
    "    df_fe['HasPool']      = (df_fe['PoolArea']   > 0).astype(int)\n",
    "    df_fe['Price_per_sqft_total']  = df_fe['TotalSF']\n",
    "    df_fe['Price_per_sqft_living'] = df_fe['GrLivArea']\n",
    "    return df_fe"
   ]
  },
  {
   "cell_type": "markdown",
   "metadata": {},
   "source": [
    "## 3. Load Best Model from MLflow"
   ]
  },
  {
   "cell_type": "code",
   "execution_count": null,
   "metadata": {},
   "outputs": [],
   "source": [
    "print(\"Loading best model and artifacts...\")\n",
    "try:\n",
    "    model_name = \"house_prices_final_model\"\n",
    "    model_version = \"latest\"\n",
    "    model_uri = f\"models:/{model_name}/{model_version}\"\n",
    "    model = mlflow.sklearn.load_model(model_uri)\n",
    "    client = MlflowClient()\n",
    "    info = client.get_model_version(model_name, model_version)\n",
    "    run_id = info.run_id\n",
    "    print(f\"Loaded model run: {run_id}\")\n",
    "except:\n",
    "    exp = mlflow.get_experiment_by_name(\"house-prices-experiments\")\n",
    "    runs = mlflow.search_runs([exp.experiment_id])\n",
    "    final = runs[runs['tags.mlflow.runName']=='Final_Model_Registration'].iloc[0]\n",
    "    run_id = final.run_id\n",
    "    model = mlflow.sklearn.load_model(f\"runs:/{run_id}/final_model\")\n",
    "    print(f\"Fallback loaded run: {run_id}\")"
   ]
  },
  {
   "cell_type": "markdown",
   "metadata": {},
   "source": [
    "## 4. Recreate Preprocessing Pipeline"
   ]
  },
  {
   "cell_type": "code",
   "execution_count": null,
   "metadata": {},
   "outputs": [],
   "source": [
    "train_data = pd.read_csv('house-prices-advanced-regression-techniques/train.csv')\n",
    "train_clean = clean_data(train_data, is_train=True)\n",
    "test_clean  = clean_data(test_data,  is_train=False)\n",
    "train_fe = feature_engineering(train_clean)\n",
    "test_fe  = feature_engineering(test_clean)\n",
    "print(f\"After FE: train {train_fe.shape}, test {test_fe.shape}\")"
   ]
  },
  {
   "cell_type": "markdown",
   "metadata": {},
   "source": [
    "## 5. Feature Encoding"
   ]
  },
  {
   "cell_type": "code",
   "execution_count": null,
   "metadata": {},
   "outputs": [],
   "source": [
    "def encode_features(train_df, test_df, target_col='SalePrice'):\n",
    "    if target_col in train_df:\n",
    "        X_train = train_df.drop(columns=[target_col]); y_train = train_df[target_col]\n",
    "    else:\n",
    "        X_train = train_df.copy(); y_train = None\n",
    "    X_test = test_df.copy()\n",
    "    cats = X_train.select_dtypes('object').columns.tolist()\n",
    "    if 'Id' in X_train.columns:\n",
    "        X_train.drop('Id',axis=1,inplace=True); X_test.drop('Id',axis=1,inplace=True)\n",
    "    X_train_enc = pd.get_dummies(X_train, columns=cats, drop_first=True)\n",
    "    X_test_enc  = pd.get_dummies(X_test,  columns=cats, drop_first=True)\n",
    "    for c in set(X_train_enc.columns)-set(X_test_enc.columns): X_test_enc[c]=0\n",
    "    for c in set(X_test_enc.columns)-set(X_train_enc.columns): X_train_enc[c]=0\n",
    "    X_test_enc = X_test_enc[X_train_enc.columns]\n",
    "    return X_train_enc, X_test_enc, y_train\n",
    "\n",
    "X_train_enc, X_test_enc, y_train = encode_features(train_fe, test_fe)\n",
    "print(f\"Encoded shapes: train {X_train_enc.shape}, test {X_test_enc.shape}\")"
   ]
  },
  {
   "cell_type": "markdown",
   "metadata": {},
   "source": [
    "## 6. Feature Selection & Prediction"
   ]
  },
  {
   "cell_type": "code",
   "execution_count": null,
   "metadata": {},
   "outputs": [],
   "source": [
    "from sklearn.feature_selection import SelectKBest, f_regression\n",
    "k = 268\n",
    "selector = SelectKBest(score_func=f_regression, k=k)\n",
    "X_train_sel = selector.fit_transform(X_train_enc, y_train)\n",
    "X_test_sel  = selector.transform(X_test_enc)\n",
    "print(f\"Selected features: {X_train_sel.shape[1]}\")\n",
    "\n",
    "preds = model.predict(X_test_sel)\n",
    "print(f\"Generated {len(preds)} predictions\")"
   ]
  },
  {
   "cell_type": "markdown",
   "metadata": {},
   "source": [
    "## 7. Create Submission File"
   ]
  },
  {
   "cell_type": "code",
   "execution_count": null,
   "metadata": {},
   "outputs": [],
   "source": [
    "submission = pd.DataFrame({'Id': test_ids, 'SalePrice': preds})\n",
    "submission.to_csv('house_prices_submission.csv', index=False)\n",
    "print(f\"Saved submission.csv with shape {submission.shape}\")\n",
    "print(submission.head(10))"
   ]
  }
 ],
 "metadata": {
  "kernelspec": {
   "display_name": "Python 3",
   "language": "python",
   "name": "python3"
  },
  "language_info": {
   "name": "python",
   "version": "3.8"
  }
 },
 "nbformat": 4,
 "nbformat_minor": 4
}
