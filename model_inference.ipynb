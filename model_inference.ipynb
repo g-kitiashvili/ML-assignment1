{
 "cells": [
  {
   "cell_type": "markdown",
   "metadata": {},
   "source": [
    "# House Prices – Model Inference\n",
    "\n",
    "Test Set Prediction using the Best Model from Model Registry"
   ]
  },
  {
   "cell_type": "markdown",
   "metadata": {},
   "source": [
    "## 1. Setup and Imports"
   ]
  },
  {
   "cell_type": "code",
   "metadata": {
    "ExecuteTime": {
     "end_time": "2025-06-24T12:42:43.082662Z",
     "start_time": "2025-06-24T12:42:37.590887Z"
    }
   },
   "source": [
    "%pip install -q dagshub mlflow\n",
    "\n",
    "import os\n",
    "import pandas as pd\n",
    "import numpy as np\n",
    "import mlflow\n",
    "import mlflow.sklearn\n",
    "from mlflow.tracking import MlflowClient\n",
    "import warnings\n",
    "warnings.filterwarnings('ignore')\n",
    "\n",
    "os.environ['MLFLOW_TRACKING_URI'] = 'https://dagshub.com/g-kitiashvili/ML-assignment1.mlflow'\n",
    "os.environ['MLFLOW_TRACKING_USERNAME'] = 'g-kitiashvili'\n",
    "os.environ['MLFLOW_TRACKING_PASSWORD'] = '1c2227158cc19daf66bb3b241116a8e8c5f1cd20'\n",
    "\n",
    "print(\"House Prices - Model Inference\")\n",
    "print(\"=\" * 50)"
   ],
   "outputs": [
    {
     "name": "stdout",
     "output_type": "stream",
     "text": [
      "Note: you may need to restart the kernel to use updated packages.\n",
      "House Prices - Model Inference\n",
      "==================================================\n"
     ]
    }
   ],
   "execution_count": 1
  },
  {
   "cell_type": "markdown",
   "metadata": {},
   "source": [
    "## 2. Load Test Data and Preprocessing Functions"
   ]
  },
  {
   "cell_type": "code",
   "metadata": {
    "ExecuteTime": {
     "end_time": "2025-06-24T12:42:46.110343Z",
     "start_time": "2025-06-24T12:42:46.077056Z"
    }
   },
   "source": [
    "# Load test data\n",
    "test_data = pd.read_csv('house-prices-advanced-regression-techniques/test.csv')\n",
    "test_ids = test_data['Id'].copy()\n",
    "print(f\"Test data shape: {test_data.shape}\")\n",
    "\n",
    "def clean_data(df, is_train=True):\n",
    "    df_clean = df.copy()\n",
    "    if is_train:\n",
    "        df_clean = df_clean.drop(\n",
    "            df_clean[(df_clean['GrLivArea'] > 4000) &\n",
    "                     (df_clean['SalePrice'] < 300000)].index\n",
    "        )\n",
    "    cat_na = ['Alley','BsmtQual','BsmtCond','BsmtExposure','BsmtFinType1',\n",
    "              'BsmtFinType2','FireplaceQu','GarageType','GarageFinish',\n",
    "              'GarageQual','GarageCond','PoolQC','Fence','MiscFeature']\n",
    "    for feat in cat_na:\n",
    "        if feat in df_clean:\n",
    "            df_clean[feat] = df_clean[feat].fillna('None')\n",
    "    num_zero = ['BsmtFinSF1','BsmtFinSF2','BsmtUnfSF','TotalBsmtSF',\n",
    "                'BsmtFullBath','BsmtHalfBath','GarageYrBlt','GarageArea',\n",
    "                'GarageCars','MasVnrArea']\n",
    "    for feat in num_zero:\n",
    "        if feat in df_clean:\n",
    "            df_clean[feat] = df_clean[feat].fillna(0)\n",
    "    for feat in df_clean.select_dtypes('object'):\n",
    "        if df_clean[feat].isnull().any():\n",
    "            df_clean[feat] = df_clean[feat].fillna(df_clean[feat].mode()[0])\n",
    "    for feat in df_clean.select_dtypes(include=[np.number]):\n",
    "        if df_clean[feat].isnull().any():\n",
    "            df_clean[feat] = df_clean[feat].fillna(df_clean[feat].median())\n",
    "    return df_clean\n",
    "\n",
    "def feature_engineering(df):\n",
    "    df_fe = df.copy()\n",
    "    df_fe['TotalSF'] = df_fe['TotalBsmtSF'] + df_fe['1stFlrSF'] + df_fe['2ndFlrSF']\n",
    "    df_fe['Total_Bathrooms'] = (df_fe['FullBath'] + 0.5*df_fe['HalfBath'] +\n",
    "                               df_fe['BsmtFullBath'] + 0.5*df_fe['BsmtHalfBath'])\n",
    "    df_fe['Total_porch_sf'] = (df_fe['OpenPorchSF'] + df_fe['3SsnPorch'] +\n",
    "                              df_fe['EnclosedPorch'] + df_fe['ScreenPorch'] +\n",
    "                              df_fe['WoodDeckSF'])\n",
    "    df_fe['HouseAge'] = df_fe['YrSold'] - df_fe['YearBuilt']\n",
    "    df_fe['RemodAge'] = df_fe['YrSold'] - df_fe['YearRemodAdd']\n",
    "    df_fe['GarageAge'] = (df_fe['YrSold'] - df_fe['GarageYrBlt']).fillna(0)\n",
    "    df_fe['HasBasement']  = (df_fe['TotalBsmtSF'] > 0).astype(int)\n",
    "    df_fe['HasGarage']    = (df_fe['GarageArea']  > 0).astype(int)\n",
    "    df_fe['HasFireplace'] = (df_fe['Fireplaces'] > 0).astype(int)\n",
    "    df_fe['HasPool']      = (df_fe['PoolArea']   > 0).astype(int)\n",
    "    df_fe['Price_per_sqft_total']  = df_fe['TotalSF']\n",
    "    df_fe['Price_per_sqft_living'] = df_fe['GrLivArea']\n",
    "    return df_fe"
   ],
   "outputs": [
    {
     "name": "stdout",
     "output_type": "stream",
     "text": [
      "Test data shape: (1459, 80)\n"
     ]
    }
   ],
   "execution_count": 2
  },
  {
   "cell_type": "markdown",
   "metadata": {},
   "source": [
    "## 3. Load Best Model from MLflow"
   ]
  },
  {
   "cell_type": "code",
   "metadata": {
    "ExecuteTime": {
     "end_time": "2025-06-24T12:43:39.728054Z",
     "start_time": "2025-06-24T12:43:37.705504Z"
    }
   },
   "source": [
    "print(\"Loading best model and artifacts...\")\n",
    "\n",
    "exp = mlflow.get_experiment_by_name(\"house-prices-experiments\")\n",
    "runs = mlflow.search_runs([exp.experiment_id])\n",
    "final = runs[runs['tags.mlflow.runName']=='Final_Model_Registration'].iloc[0]\n",
    "run_id = final.run_id\n",
    "model = mlflow.sklearn.load_model(f\"runs:/{run_id}/final_model\")\n",
    "print(f\"Fallback loaded run: {run_id}\")"
   ],
   "outputs": [
    {
     "name": "stdout",
     "output_type": "stream",
     "text": [
      "Loading best model and artifacts...\n"
     ]
    },
    {
     "name": "stderr",
     "output_type": "stream",
     "text": [
      "Downloading artifacts: 100%|██████████| 5/5 [00:00<00:00,  8.98it/s]"
     ]
    },
    {
     "name": "stdout",
     "output_type": "stream",
     "text": [
      "Fallback loaded run: dede48411cd04cb0beb34da9cdc2f85e\n"
     ]
    },
    {
     "name": "stderr",
     "output_type": "stream",
     "text": [
      "\n"
     ]
    }
   ],
   "execution_count": 4
  },
  {
   "cell_type": "markdown",
   "metadata": {},
   "source": [
    "## 4. Recreate Preprocessing Pipeline"
   ]
  },
  {
   "cell_type": "code",
   "metadata": {
    "ExecuteTime": {
     "end_time": "2025-06-24T12:44:25.936085Z",
     "start_time": "2025-06-24T12:44:25.856952Z"
    }
   },
   "source": [
    "train_data = pd.read_csv('house-prices-advanced-regression-techniques/train.csv')\n",
    "train_clean = clean_data(train_data, is_train=True)\n",
    "test_clean  = clean_data(test_data,  is_train=False)\n",
    "train_fe = feature_engineering(train_clean)\n",
    "test_fe  = feature_engineering(test_clean)\n",
    "print(f\"After FE: train {train_fe.shape}, test {test_fe.shape}\")"
   ],
   "outputs": [
    {
     "name": "stdout",
     "output_type": "stream",
     "text": [
      "After FE: train (1458, 93), test (1459, 92)\n"
     ]
    }
   ],
   "execution_count": 5
  },
  {
   "cell_type": "markdown",
   "metadata": {},
   "source": [
    "## 5. Feature Encoding"
   ]
  },
  {
   "cell_type": "code",
   "metadata": {
    "ExecuteTime": {
     "end_time": "2025-06-24T12:44:29.478246Z",
     "start_time": "2025-06-24T12:44:29.430603Z"
    }
   },
   "source": [
    "def encode_features(train_df, test_df, target_col='SalePrice'):\n",
    "    if target_col in train_df:\n",
    "        X_train = train_df.drop(columns=[target_col]); y_train = train_df[target_col]\n",
    "    else:\n",
    "        X_train = train_df.copy(); y_train = None\n",
    "    X_test = test_df.copy()\n",
    "    cats = X_train.select_dtypes('object').columns.tolist()\n",
    "    if 'Id' in X_train.columns:\n",
    "        X_train.drop('Id',axis=1,inplace=True); X_test.drop('Id',axis=1,inplace=True)\n",
    "    X_train_enc = pd.get_dummies(X_train, columns=cats, drop_first=True)\n",
    "    X_test_enc  = pd.get_dummies(X_test,  columns=cats, drop_first=True)\n",
    "    for c in set(X_train_enc.columns)-set(X_test_enc.columns): X_test_enc[c]=0\n",
    "    for c in set(X_test_enc.columns)-set(X_train_enc.columns): X_train_enc[c]=0\n",
    "    X_test_enc = X_test_enc[X_train_enc.columns]\n",
    "    return X_train_enc, X_test_enc, y_train\n",
    "\n",
    "X_train_enc, X_test_enc, y_train = encode_features(train_fe, test_fe)\n",
    "print(f\"Encoded shapes: train {X_train_enc.shape}, test {X_test_enc.shape}\")"
   ],
   "outputs": [
    {
     "name": "stdout",
     "output_type": "stream",
     "text": [
      "Encoded shapes: train (1458, 269), test (1459, 269)\n"
     ]
    }
   ],
   "execution_count": 6
  },
  {
   "cell_type": "markdown",
   "metadata": {},
   "source": [
    "## 6. Feature Selection & Prediction"
   ]
  },
  {
   "cell_type": "code",
   "metadata": {
    "ExecuteTime": {
     "end_time": "2025-06-24T12:44:31.327523Z",
     "start_time": "2025-06-24T12:44:31.205958Z"
    }
   },
   "source": [
    "from sklearn.feature_selection import SelectKBest, f_regression\n",
    "k = 268\n",
    "selector = SelectKBest(score_func=f_regression, k=k)\n",
    "X_train_sel = selector.fit_transform(X_train_enc, y_train)\n",
    "X_test_sel  = selector.transform(X_test_enc)\n",
    "print(f\"Selected features: {X_train_sel.shape[1]}\")\n",
    "\n",
    "preds = model.predict(X_test_sel)\n",
    "print(f\"Generated {len(preds)} predictions\")"
   ],
   "outputs": [
    {
     "name": "stdout",
     "output_type": "stream",
     "text": [
      "Selected features: 268\n",
      "Generated 1459 predictions\n"
     ]
    }
   ],
   "execution_count": 7
  },
  {
   "cell_type": "markdown",
   "metadata": {},
   "source": [
    "## 7. Create Submission File"
   ]
  },
  {
   "cell_type": "code",
   "metadata": {
    "ExecuteTime": {
     "end_time": "2025-06-24T12:44:34.711336Z",
     "start_time": "2025-06-24T12:44:34.695062Z"
    }
   },
   "source": [
    "submission = pd.DataFrame({'Id': test_ids, 'SalePrice': preds})\n",
    "submission.to_csv('house_prices_submission.csv', index=False)\n",
    "print(f\"Saved submission.csv with shape {submission.shape}\")\n",
    "print(submission.head(10))"
   ],
   "outputs": [
    {
     "name": "stdout",
     "output_type": "stream",
     "text": [
      "Saved submission.csv with shape (1459, 2)\n",
      "     Id      SalePrice\n",
      "0  1461   65069.704029\n",
      "1  1462  108075.848221\n",
      "2  1463  141869.672470\n",
      "3  1464  148954.545419\n",
      "4  1465  152096.033045\n",
      "5  1466  125111.131442\n",
      "6  1467  116474.575869\n",
      "7  1468  104393.872831\n",
      "8  1469  166432.436253\n",
      "9  1470   63784.814479\n"
     ]
    }
   ],
   "execution_count": 8
  },
  {
   "metadata": {},
   "cell_type": "code",
   "outputs": [],
   "execution_count": null,
   "source": ""
  }
 ],
 "metadata": {
  "kernelspec": {
   "display_name": "Python 3",
   "language": "python",
   "name": "python3"
  },
  "language_info": {
   "name": "python",
   "version": "3.8"
  }
 },
 "nbformat": 4,
 "nbformat_minor": 4
}
